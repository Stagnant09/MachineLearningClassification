{
 "cells": [
  {
   "cell_type": "markdown",
   "id": "fdf55623",
   "metadata": {},
   "source": [
    "# Project in Machine Learning\n",
    "Classification of objects - Pictures of Cats, Dogs and Wild Animals"
   ]
  },
  {
   "cell_type": "markdown",
   "metadata": {},
   "source": [
    "In this project, we use a training set of 14630 pictures (512x512, jpg) of cats, dogs and wild animals in order to create a model that can recognize the animals in new images. We, then, test this model in a validation set of 1500 pictures."
   ]
  },
  {
   "cell_type": "markdown",
   "metadata": {},
   "source": [
    "Source of the dataset: https://www.kaggle.com/datasets/andrewmvd/animal-faces/ \\\n",
    "Proceedings of the IEEE Conference on Computer Vision and Pattern Recognition \\\n",
    "Yunjey Choi and Youngjung Uh and Jaejun Yoo and Jung-Woo Ha, 2020 \\\n",
    "StarGAN v2: Diverse Image Synthesis for Multiple Domains"
   ]
  }
 ],
 "metadata": {
  "kernelspec": {
   "display_name": "Python 3 (ipykernel)",
   "language": "python",
   "name": "python3"
  },
  "language_info": {
   "codemirror_mode": {
    "name": "ipython",
    "version": 3
   },
   "file_extension": ".py",
   "mimetype": "text/x-python",
   "name": "python",
   "nbconvert_exporter": "python",
   "pygments_lexer": "ipython3",
   "version": "3.11.5"
  }
 },
 "nbformat": 4,
 "nbformat_minor": 5
}

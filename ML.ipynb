{
 "cells": [
  {
   "cell_type": "markdown",
   "id": "fdf55623",
   "metadata": {},
   "source": [
    "# Project in Machine Learning (2023-2024, Winter Semester)\n",
    "Classification of objects - Pictures of Cats, Dogs and Wild Animals"
   ]
  },
  {
   "cell_type": "markdown",
   "metadata": {},
   "source": [
    "In this project, we use a training set of 14630 pictures (512x512, jpg) of cats, dogs and wild animals in order to create a model that can recognize the animals in new images. Then, we test this model in a validation set of 1500 pictures."
   ]
  },
  {
   "cell_type": "markdown",
   "metadata": {},
   "source": [
    "Source of the dataset: https://www.kaggle.com/datasets/andrewmvd/animal-faces/ \\\n",
    "Proceedings of the IEEE Conference on Computer Vision and Pattern Recognition \\\n",
    "Yunjey Choi and Youngjung Uh and Jaejun Yoo and Jung-Woo Ha, 2020 \\\n",
    "StarGAN v2: Diverse Image Synthesis for Multiple Domains"
   ]
  },
  {
   "cell_type": "markdown",
   "id": "23ebffae",
   "metadata": {},
   "source": [
    "### 1. Principal Component Analysis"
   ]
  },
  {
   "cell_type": "markdown",
   "id": "738cf821",
   "metadata": {},
   "source": [
    "Ξεκινήσαμε συλλέγοντας όλα τα δεδομένα και μετατρέποντάς τα σε ασπρόμαυρα."
   ]
  },
  {
   "cell_type": "code",
   "execution_count": null,
   "id": "2b94e563",
   "metadata": {
    "vscode": {
     "languageId": "plaintext"
    }
   },
   "outputs": [],
   "source": [
    "import os\n",
    "import cv2\n",
    "import numpy as np\n",
    "import matplotlib.pyplot as plt\n",
    "import time\n",
    "\n",
    "# Start timer\n",
    "start_time = time.time()\n",
    "print(start_time)\n",
    "\n",
    "# Load images and convert to grayscale\n",
    "def load_images(folder_path, size=(64, 64)):\n",
    "    images = []\n",
    "    for filename in os.listdir(folder_path):\n",
    "        img = cv2.imread(os.path.join(folder_path, filename))\n",
    "        if img is not None:\n",
    "            img = cv2.resize(img, size)  # Resize image\n",
    "            images.append(img)\n",
    "    return images\n",
    "\n",
    "# Function to flatten images to vectors\n",
    "def flatten_images(images):\n",
    "    flattened_images = []\n",
    "    for img in images:\n",
    "        flattened_images.append(img.flatten())\n",
    "    return np.array(flattened_images)\n",
    "\n",
    "# Load the dataset of images (cats, dogs, wild animals)\n",
    "train_folder_path = r\"KostasEdition/afhq/train/cat\"\n",
    "images = load_images(train_folder_path)\n",
    "\n",
    "# Convert images to grayscale\n",
    "grayscale_images = [cv2.cvtColor(img, cv2.COLOR_BGR2GRAY) for img in images]\n",
    "\n",
    "# Flatten and convert images to numpy array (vectors)\n",
    "flattened_resized_images = flatten_images(grayscale_images)\n",
    "\n",
    "# Convert images to float64 data type\n",
    "flattened_resized_images = flattened_resized_images.astype('float64')"
   ]
  },
  {
   "cell_type": "markdown",
   "id": "ba8c2c36",
   "metadata": {},
   "source": [
    "Έπειτα, ορίσαμε την κλάση PCA, η οποία περιλαμβάνει μεθόδους για τον υπολογισμό της ιδιοαποσύνθεσης του πίνακα συμμεταβλητότητας και την έξοδο του PCA (ο τελικός πίνακας y). \\\n",
    "Η υπερπαράμετρος k είναι η self.n_components."
   ]
  },
  {
   "cell_type": "code",
   "execution_count": null,
   "id": "847ddc35",
   "metadata": {
    "vscode": {
     "languageId": "plaintext"
    }
   },
   "outputs": [],
   "source": [
    "# Implement PCA\n",
    "class PCA:\n",
    "    def __init__(self, n_components):\n",
    "        self.n_components = n_components\n",
    "        self.components = None #The Q Matrix\n",
    "        self.mean = None\n",
    "\n",
    "\n",
    "    def fit(self, X):\n",
    "        # Convert to float for calculations\n",
    "        X = X.astype('float64')\n",
    "\n",
    "        # Mean centering\n",
    "        self.mean = np.mean(X, axis=0)\n",
    "        X -= self.mean\n",
    "\n",
    "        # Calculate covariance matrix\n",
    "        cov_matrix = np.cov(X.T)\n",
    "\n",
    "        # Eigen decomposition\n",
    "        eigenvalues, eigenvectors = np.linalg.eig(cov_matrix)\n",
    "\n",
    "        # Sort eigenvalues and eigenvectors\n",
    "        eigenvectors = eigenvectors.T\n",
    "        idxs = np.argsort(eigenvalues)[::-1]\n",
    "        eigenvalues = eigenvalues[idxs]\n",
    "        eigenvectors = eigenvectors[idxs]\n",
    "        inv_2_eigenvalues = np.sqrt(np.linalg.inv(np.diag(eigenvalues)))\n",
    "\n",
    "        # Store first n_components eigenvectors\n",
    "        self.components = inv_2_eigenvalues @ eigenvectors.T [:self.n_components]\n",
    "\n",
    "    def transform(self, X):\n",
    "        # Mean centering\n",
    "        X -= self.mean\n",
    "\n",
    "        # Project data onto the components\n",
    "        return np.dot(X, self.components.T)\n",
    "\n",
    "\n",
    "    def fit_transform(self, X):\n",
    "        self.fit(X)\n",
    "        return self.transform(X)"
   ]
  },
  {
   "cell_type": "markdown",
   "id": "71db765f",
   "metadata": {},
   "source": [
    "Τέλος, εφαρμόζουμε τις μεθόδους της κλάσης στις εικόνες και τυπώνουμε τα αποτελέσματα."
   ]
  },
  {
   "cell_type": "code",
   "execution_count": null,
   "id": "c26509d5",
   "metadata": {
    "vscode": {
     "languageId": "plaintext"
    }
   },
   "outputs": [],
   "source": [
    "# The number of components\n",
    "n_components = 100 \n",
    "\n",
    "# Apply PCA to images\n",
    "pca = PCA(n_components=n_components)\n",
    "transformed_images = pca.fit_transform(flattened_resized_images)\n",
    "print(\"Applied PCA to images\")\n",
    "\n",
    "# Reconstruct images using the transformed data\n",
    "reconstructed_images = np.dot(transformed_images, pca.components) + pca.mean\n",
    "print(\"Reconstructed images using the transformed data\")\n",
    "\n",
    "# Reshape reconstructed images to their original shapes\n",
    "reconstructed_images = reconstructed_images.reshape(len(images), *grayscale_images[0].shape)\n",
    "print(\"Reshaped reconstructed images to their original shapes\")\n",
    "\n",
    "# Ensure reconstructed images are of appropriate data type (e.g., convert to uint8)\n",
    "reconstructed_images = np.real(reconstructed_images).astype('uint8')\n",
    "print(\"Ensure reconstructed images are of appropriate data type (e.g., convert to uint8)\")\n",
    "\n",
    "# Plot original and reconstructed images\n",
    "fig, axes = plt.subplots(2, 5, figsize=(10, 6))\n",
    "for i in range(5):\n",
    "    axes[0, i].imshow(grayscale_images[i], cmap='gray')\n",
    "    axes[0, i].axis('off')\n",
    "    axes[0, i].set_title('Original')\n",
    "\n",
    "    axes[1, i].imshow(reconstructed_images[i], cmap='gray')\n",
    "    axes[1, i].axis('off')\n",
    "    axes[1, i].set_title('Reconstructed')\n",
    "\n",
    "plt.tight_layout()\n",
    "plt.show()"
   ]
  },
  {
   "cell_type": "markdown",
   "id": "d4471750",
   "metadata": {},
   "source": [
    "### 2. Least Squares Regression"
   ]
  },
  {
   "cell_type": "markdown",
   "id": "3aab7521",
   "metadata": {},
   "source": [
    "Ξεκινάμε ξανά φορτώνοντας τις απαραίτητες βιβλιοθήκες και το dataset."
   ]
  },
  {
   "cell_type": "code",
   "execution_count": null,
   "id": "a4a8993c",
   "metadata": {
    "vscode": {
     "languageId": "plaintext"
    }
   },
   "outputs": [],
   "source": [
    "import os\n",
    "import cv2\n",
    "import numpy as np\n",
    "import matplotlib.pyplot as plt\n",
    "import time\n",
    "import random\n",
    "\n",
    "train_folder_path_cats = r\"KostasEdition/afhq/train/cat\"\n",
    "train_folder_path_dogs = r\"KostasEdition/afhq/train/dog\"\n",
    "train_folder_path_wild = r\"KostasEdition/afhq/train/wild\"\n",
    "images = load_images(train_folder_path_cats, 0)\n",
    "images.extend(load_images(train_folder_path_dogs), 1)\n",
    "images.extend(load_images(train_folder_path_wild), 2)\n",
    "\n",
    "#---\n",
    "\n",
    "def load_images(folder_path, class_name = None, size=(64, 64)):\n",
    "    images = []\n",
    "    image_class = []\n",
    "    for filename in os.listdir(folder_path):\n",
    "        img = cv2.imread(os.path.join(folder_path, filename))\n",
    "        if img is not None:\n",
    "            img = cv2.resize(img, size)  # Resize image\n",
    "            images.append(img)\n",
    "            image_class.append(class_name)\n",
    "    return images\n",
    "\n",
    "#Edit images so the become 512x512-dimensional\n",
    "images = [cv2.resize(img, (32, 32)) for img in images]"
   ]
  },
  {
   "cell_type": "markdown",
   "id": "0339780d",
   "metadata": {},
   "source": [
    "Ορίσαμε την κλάση LeastSquaresModel για την διενέργεια του αλγορίθμου. \\\n",
    "Η μέθοδος calculate παράγει το αποτέλεσμα της w*x + b. \\\n",
    "Η μέθοδος error παράγει το σφάλμα μεταξύ των στόχων και των παραχθέντων αποτελεσμάτων \\\n",
    "Η μέθοδος fix υπολογίζει τα νέα weights."
   ]
  },
  {
   "cell_type": "code",
   "execution_count": null,
   "id": "43ad47c5",
   "metadata": {
    "vscode": {
     "languageId": "plaintext"
    }
   },
   "outputs": [],
   "source": [
    "class LeastSquaresModel:\n",
    "    def __init__(self):\n",
    "        self.weights = [x for x in random.sample(range(0, 1024), 1024)]\n",
    "        self.bias = 1\n",
    "    def calculate(self, x): #Function y = w*x + b\n",
    "        return sum([self.weights[i] * x[i] for i in range(len(self.weights))]) + self.bias\n",
    "    def error(self, x, t): #Function error -> t - y_predicted\n",
    "        return 1/2 * (t - self.calculate(x))**2\n",
    "    def fix(self, X, T): #Function to fix the error\n",
    "        self.weights = (np.array(X).T @ np.array(X))^-1 @ (np.array(X).T @ np.array(T))\n"
   ]
  },
  {
   "cell_type": "markdown",
   "id": "4005af6b",
   "metadata": {},
   "source": [
    "Ορίσαμε και τις εξής υποστηρικτικές μεθόδους:"
   ]
  },
  {
   "cell_type": "code",
   "execution_count": null,
   "id": "33ece979",
   "metadata": {
    "vscode": {
     "languageId": "plaintext"
    }
   },
   "outputs": [],
   "source": [
    "def get_array_X(images):\n",
    "    X = []\n",
    "    for img in images:\n",
    "        img_array = np.array(img)\n",
    "        img_array = img_array.flatten()\n",
    "        X.append(img_array)\n",
    "    return X\n",
    "\n",
    "def get_array_T(image_class):\n",
    "    T = []\n",
    "    t = []\n",
    "    for ic in image_class:\n",
    "        if ic == 0:\n",
    "            t = [1, 0, 0]\n",
    "        if ic == 1:\n",
    "            t = [0, 1, 0]\n",
    "        if ic == 2:\n",
    "            t = [0, 0, 1]\n",
    "        T.append(t)\n",
    "    return T"
   ]
  },
  {
   "cell_type": "markdown",
   "id": "5d142fb1",
   "metadata": {},
   "source": [
    "Τέλος, χρησιμοποιούμε την κλάση LeastSquaresModel για να δημιουργήσουμε ένα μοντέλο και να το εκπαιδεύσουμε."
   ]
  },
  {
   "cell_type": "code",
   "execution_count": null,
   "id": "14ac26f4",
   "metadata": {
    "vscode": {
     "languageId": "plaintext"
    }
   },
   "outputs": [],
   "source": [
    "#Initializing the model\n",
    "model = LeastSquaresModel()\n",
    "\n",
    "#Train\n",
    "model.fix(get_array_X(images), get_array_T(image_class))"
   ]
  }
 ],
 "metadata": {
  "kernelspec": {
   "display_name": "Python 3 (ipykernel)",
   "language": "python",
   "name": "python3"
  },
  "language_info": {
   "codemirror_mode": {
    "name": "ipython",
    "version": 3
   },
   "file_extension": ".py",
   "mimetype": "text/x-python",
   "name": "python",
   "nbconvert_exporter": "python",
   "pygments_lexer": "ipython3",
   "version": "3.11.5"
  }
 },
 "nbformat": 4,
 "nbformat_minor": 5
}
